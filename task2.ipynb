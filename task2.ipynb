{
 "cells": [
  {
   "attachments": {},
   "cell_type": "markdown",
   "metadata": {},
   "source": [
    "# Task 2\n",
    "\n",
    "From https://learngitbranching.js.org/ try to solve the levels:\n",
    "Main -> Introduction Sequence -> Levels 1, 2, 3\n",
    "Remote -> Push & Pull -- Git Remotes! -> Levels 1, 3, 4 and in the meanwhile take screenshots and add them to another ipynb / pdf file in order to prove that you played the game."
   ]
  },
  {
   "attachments": {},
   "cell_type": "markdown",
   "metadata": {},
   "source": [
    "# 1. Introduction Sequence\n",
    " \n",
    " ## Level 1\n",
    " Here we had to do two git commits"
   ]
  },
  {
   "attachments": {},
   "cell_type": "markdown",
   "metadata": {},
   "source": [
    "![title](level1_int.png)"
   ]
  },
  {
   "attachments": {},
   "cell_type": "markdown",
   "metadata": {},
   "source": [
    "## Level 2\n",
    "\n",
    " Here we had to make a new branch called bugFix and check it out afterwerds\n",
    "\n"
   ]
  },
  {
   "attachments": {},
   "cell_type": "markdown",
   "metadata": {},
   "source": [
    "![title](Level2_int_1.png)"
   ]
  },
  {
   "attachments": {},
   "cell_type": "markdown",
   "metadata": {},
   "source": [
    "![title](Level2_int_2.png)"
   ]
  },
  {
   "attachments": {},
   "cell_type": "markdown",
   "metadata": {},
   "source": [
    "## Level 3\n",
    " Here we had to make a branch called bugFix\n",
    "-> Checkout the bugFix branch\n",
    "-> commit once\n",
    "-> go back to main\n",
    "-> commit another time\n",
    "-> merge the branch bugFix into main "
   ]
  },
  {
   "attachments": {},
   "cell_type": "markdown",
   "metadata": {},
   "source": [
    "![title](Level3_int_1.png)\n",
    "![title](Level3_int_2.png)\n",
    "![title](Levels_completed.png)"
   ]
  },
  {
   "attachments": {},
   "cell_type": "markdown",
   "metadata": {},
   "source": [
    "# 2. Push & Pull"
   ]
  },
  {
   "attachments": {},
   "cell_type": "markdown",
   "metadata": {},
   "source": [
    "## Level 1\n",
    "Here we had to clone a repository"
   ]
  },
  {
   "attachments": {},
   "cell_type": "markdown",
   "metadata": {},
   "source": [
    "![title](Level1_remote_1.png)\n",
    "![title](Level1_remote_2.png)"
   ]
  },
  {
   "attachments": {},
   "cell_type": "markdown",
   "metadata": {},
   "source": [
    "## Level 2\n",
    "Here we had to commit once off of main and once after checking out origin/main\n",
    "\n",
    "![title](Level2_remote_1.png)\n",
    "![title](Level2_remote_2.png)"
   ]
  },
  {
   "attachments": {},
   "cell_type": "markdown",
   "metadata": {},
   "source": [
    "## Level 3\n",
    "\n",
    "Here we had to git fetch a repository\n",
    "\n",
    "![title](Level3_remote_1.png)\n",
    "![title](Level3_remote_2.png)"
   ]
  },
  {
   "attachments": {},
   "cell_type": "markdown",
   "metadata": {},
   "source": [
    "## Level 4\n",
    "\n",
    "Here we had to pull a repository\n",
    "\n",
    "![title](Level4_remote_1.png)\n",
    "![title](Level4_remote_2.png)"
   ]
  },
  {
   "attachments": {},
   "cell_type": "markdown",
   "metadata": {},
   "source": [
    "![title](Levels_remote_completed.png)"
   ]
  }
 ],
 "metadata": {
  "kernelspec": {
   "display_name": "newProject",
   "language": "python",
   "name": "python3"
  },
  "language_info": {
   "name": "python",
   "version": "3.10.6 | packaged by conda-forge | (main, Oct  7 2022, 20:14:50) [MSC v.1916 64 bit (AMD64)]"
  },
  "orig_nbformat": 4,
  "vscode": {
   "interpreter": {
    "hash": "32ee8d679e687b8e90bc8c7917c46b3e5639de6e69b571af2e94f6080e5b5285"
   }
  }
 },
 "nbformat": 4,
 "nbformat_minor": 2
}
